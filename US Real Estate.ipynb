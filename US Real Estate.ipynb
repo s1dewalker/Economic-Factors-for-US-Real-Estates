{
 "cells": [
  {
   "cell_type": "code",
   "execution_count": 18,
   "id": "54b639cd",
   "metadata": {},
   "outputs": [],
   "source": [
    "import pandas as pd\n",
    "import seaborn as sns\n",
    "import matplotlib.pyplot as plt\n",
    "from sklearn import linear_model"
   ]
  },
  {
   "cell_type": "code",
   "execution_count": 4,
   "id": "7acb348b",
   "metadata": {},
   "outputs": [],
   "source": [
    "redf=pd.read_excel(r'Final Table.xlsx')"
   ]
  },
  {
   "cell_type": "code",
   "execution_count": 9,
   "id": "1124b9b5",
   "metadata": {},
   "outputs": [
    {
     "data": {
      "text/plain": [
       "(39, 7)"
      ]
     },
     "execution_count": 9,
     "metadata": {},
     "output_type": "execute_result"
    }
   ],
   "source": [
    "redf.shape"
   ]
  },
  {
   "cell_type": "code",
   "execution_count": 7,
   "id": "d22e52ef",
   "metadata": {},
   "outputs": [
    {
     "data": {
      "text/html": [
       "<div>\n",
       "<style scoped>\n",
       "    .dataframe tbody tr th:only-of-type {\n",
       "        vertical-align: middle;\n",
       "    }\n",
       "\n",
       "    .dataframe tbody tr th {\n",
       "        vertical-align: top;\n",
       "    }\n",
       "\n",
       "    .dataframe thead th {\n",
       "        text-align: right;\n",
       "    }\n",
       "</style>\n",
       "<table border=\"1\" class=\"dataframe\">\n",
       "  <thead>\n",
       "    <tr style=\"text-align: right;\">\n",
       "      <th></th>\n",
       "      <th>YEAR</th>\n",
       "      <th>AverageSalesPrice (in $)</th>\n",
       "      <th>Median Household Income (in $)</th>\n",
       "      <th>Total Population</th>\n",
       "      <th>Interest_rate</th>\n",
       "      <th>GDP (Trillion $)</th>\n",
       "      <th>CPI</th>\n",
       "    </tr>\n",
       "  </thead>\n",
       "  <tbody>\n",
       "    <tr>\n",
       "      <th>count</th>\n",
       "      <td>39.000000</td>\n",
       "      <td>39.000000</td>\n",
       "      <td>39.000000</td>\n",
       "      <td>3.900000e+01</td>\n",
       "      <td>39.000000</td>\n",
       "      <td>39.000000</td>\n",
       "      <td>39.000000</td>\n",
       "    </tr>\n",
       "    <tr>\n",
       "      <th>mean</th>\n",
       "      <td>2001.717949</td>\n",
       "      <td>195267.307692</td>\n",
       "      <td>41255.461538</td>\n",
       "      <td>2.846825e+08</td>\n",
       "      <td>0.037205</td>\n",
       "      <td>13.223026</td>\n",
       "      <td>181.153692</td>\n",
       "    </tr>\n",
       "    <tr>\n",
       "      <th>std</th>\n",
       "      <td>11.760659</td>\n",
       "      <td>85666.393981</td>\n",
       "      <td>13675.098673</td>\n",
       "      <td>3.221331e+07</td>\n",
       "      <td>0.030137</td>\n",
       "      <td>3.799828</td>\n",
       "      <td>51.851912</td>\n",
       "    </tr>\n",
       "    <tr>\n",
       "      <th>min</th>\n",
       "      <td>1982.000000</td>\n",
       "      <td>69225.000000</td>\n",
       "      <td>19000.000000</td>\n",
       "      <td>2.316644e+08</td>\n",
       "      <td>0.002500</td>\n",
       "      <td>6.806000</td>\n",
       "      <td>96.500000</td>\n",
       "    </tr>\n",
       "    <tr>\n",
       "      <th>25%</th>\n",
       "      <td>1991.500000</td>\n",
       "      <td>121837.500000</td>\n",
       "      <td>29917.000000</td>\n",
       "      <td>2.551933e+08</td>\n",
       "      <td>0.006250</td>\n",
       "      <td>9.525500</td>\n",
       "      <td>138.250000</td>\n",
       "    </tr>\n",
       "    <tr>\n",
       "      <th>50%</th>\n",
       "      <td>2002.000000</td>\n",
       "      <td>186025.000000</td>\n",
       "      <td>42125.000000</td>\n",
       "      <td>2.876252e+08</td>\n",
       "      <td>0.040000</td>\n",
       "      <td>13.493000</td>\n",
       "      <td>179.880000</td>\n",
       "    </tr>\n",
       "    <tr>\n",
       "      <th>75%</th>\n",
       "      <td>2011.500000</td>\n",
       "      <td>244675.000000</td>\n",
       "      <td>50000.000000</td>\n",
       "      <td>3.127271e+08</td>\n",
       "      <td>0.056850</td>\n",
       "      <td>16.019000</td>\n",
       "      <td>227.266500</td>\n",
       "    </tr>\n",
       "    <tr>\n",
       "      <th>max</th>\n",
       "      <td>2021.000000</td>\n",
       "      <td>396800.000000</td>\n",
       "      <td>68400.000000</td>\n",
       "      <td>3.329151e+08</td>\n",
       "      <td>0.093700</td>\n",
       "      <td>19.427000</td>\n",
       "      <td>270.970000</td>\n",
       "    </tr>\n",
       "  </tbody>\n",
       "</table>\n",
       "</div>"
      ],
      "text/plain": [
       "              YEAR  AverageSalesPrice (in $)  Median Household Income (in $)  \\\n",
       "count    39.000000                 39.000000                       39.000000   \n",
       "mean   2001.717949             195267.307692                    41255.461538   \n",
       "std      11.760659              85666.393981                    13675.098673   \n",
       "min    1982.000000              69225.000000                    19000.000000   \n",
       "25%    1991.500000             121837.500000                    29917.000000   \n",
       "50%    2002.000000             186025.000000                    42125.000000   \n",
       "75%    2011.500000             244675.000000                    50000.000000   \n",
       "max    2021.000000             396800.000000                    68400.000000   \n",
       "\n",
       "       Total Population  Interest_rate  GDP (Trillion $)         CPI  \n",
       "count      3.900000e+01      39.000000         39.000000   39.000000  \n",
       "mean       2.846825e+08       0.037205         13.223026  181.153692  \n",
       "std        3.221331e+07       0.030137          3.799828   51.851912  \n",
       "min        2.316644e+08       0.002500          6.806000   96.500000  \n",
       "25%        2.551933e+08       0.006250          9.525500  138.250000  \n",
       "50%        2.876252e+08       0.040000         13.493000  179.880000  \n",
       "75%        3.127271e+08       0.056850         16.019000  227.266500  \n",
       "max        3.329151e+08       0.093700         19.427000  270.970000  "
      ]
     },
     "execution_count": 7,
     "metadata": {},
     "output_type": "execute_result"
    }
   ],
   "source": [
    "redf.describe()"
   ]
  },
  {
   "cell_type": "code",
   "execution_count": 10,
   "id": "4661bf12",
   "metadata": {},
   "outputs": [],
   "source": [
    "correlation = redf.corr()"
   ]
  },
  {
   "cell_type": "code",
   "execution_count": 64,
   "id": "2f4b643e",
   "metadata": {},
   "outputs": [
    {
     "data": {
      "image/png": "[encoded data removed]",
      "text/plain": [
       "<Figure size 720x720 with 2 Axes>"
      ]
     },
     "metadata": {
      "needs_background": "light"
     },
     "output_type": "display_data"
    }
   ],
   "source": [
    "plt.figure(figsize=(10,10))\n",
    "sns.heatmap(correlation,cbar = True, square = True, cmap= 'BuPu', annot = True, fmt = '.3f',vmin=0.5, vmax=1)\n",
    "plt.show()"
   ]
  },
  {
   "cell_type": "markdown",
   "id": "dc37a7c8",
   "metadata": {},
   "source": [
    "_Very strong correlation (both positive and negative)_"
   ]
  },
  {
   "cell_type": "code",
   "execution_count": 36,
   "id": "9fa6fe08",
   "metadata": {},
   "outputs": [],
   "source": [
    "X = redf[['YEAR']]\n",
    "y = redf[['Median Household Income (in $)', 'Total Population', 'Interest_rate', 'GDP (Trillion $)','CPI']]"
   ]
  },
  {
   "cell_type": "code",
   "execution_count": 37,
   "id": "d6c657fb",
   "metadata": {},
   "outputs": [
    {
     "data": {
      "text/plain": [
       "LinearRegression()"
      ]
     },
     "execution_count": 37,
     "metadata": {},
     "output_type": "execute_result"
    }
   ],
   "source": [
    "regr = linear_model.LinearRegression()\n",
    "regr.fit(X, y)"
   ]
  },
  {
   "cell_type": "code",
   "execution_count": 41,
   "id": "d0753319",
   "metadata": {},
   "outputs": [],
   "source": [
    "predictedHousePriceData = regr.predict([[2030]])"
   ]
  },
  {
   "cell_type": "code",
   "execution_count": 42,
   "id": "81468161",
   "metadata": {},
   "outputs": [
    {
     "data": {
      "text/plain": [
       "array([[ 7.38534006e+04,  3.62001184e+08, -2.54758337e-02,\n",
       "         2.23237673e+01,  3.05710565e+02]])"
      ]
     },
     "execution_count": 42,
     "metadata": {},
     "output_type": "execute_result"
    }
   ],
   "source": [
    "predictedHousePriceData"
   ]
  },
  {
   "cell_type": "code",
   "execution_count": 44,
   "id": "8f60cd52",
   "metadata": {},
   "outputs": [],
   "source": [
    "X = redf[['Median Household Income (in $)', 'Total Population', 'Interest_rate', 'GDP (Trillion $)','CPI', 'YEAR']]\n",
    "y = redf[['AverageSalesPrice (in $)']]"
   ]
  },
  {
   "cell_type": "code",
   "execution_count": 45,
   "id": "f0a63794",
   "metadata": {},
   "outputs": [
    {
     "data": {
      "text/plain": [
       "LinearRegression()"
      ]
     },
     "execution_count": 45,
     "metadata": {},
     "output_type": "execute_result"
    }
   ],
   "source": [
    "regr = linear_model.LinearRegression()\n",
    "regr.fit(X, y)"
   ]
  },
  {
   "cell_type": "code",
   "execution_count": 46,
   "id": "b326c02f",
   "metadata": {},
   "outputs": [],
   "source": [
    "predictedHousePrice = regr.predict([[7.38534006e+04,  3.62001184e+08, -2.54758337e-02,\n",
    "         2.23237673e+01,  3.05710565e+02, 2030]])"
   ]
  },
  {
   "cell_type": "code",
   "execution_count": 47,
   "id": "83055d16",
   "metadata": {},
   "outputs": [
    {
     "data": {
      "text/plain": [
       "array([[396278.08670905]])"
      ]
     },
     "execution_count": 47,
     "metadata": {},
     "output_type": "execute_result"
    }
   ],
   "source": [
    "predictedHousePrice"
   ]
  },
  {
   "cell_type": "code",
   "execution_count": 48,
   "id": "08021a2a",
   "metadata": {},
   "outputs": [
    {
     "name": "stdout",
     "output_type": "stream",
     "text": [
      "[[ 3.51555828e-01 -7.12242089e-03  1.23144885e+05  2.72630769e+04\n",
      "   1.26860877e+03  1.20867266e+04]]\n"
     ]
    }
   ],
   "source": [
    "print(regr.coef_)"
   ]
  },
  {
   "cell_type": "code",
   "execution_count": null,
   "id": "ce0b808e",
   "metadata": {},
   "outputs": [],
   "source": []
  }
 ],
 "metadata": {
  "kernelspec": {
   "display_name": "Python 3 (ipykernel)",
   "language": "python",
   "name": "python3"
  },
  "language_info": {
   "codemirror_mode": {
    "name": "ipython",
    "version": 3
   },
   "file_extension": ".py",
   "mimetype": "text/x-python",
   "name": "python",
   "nbconvert_exporter": "python",
   "pygments_lexer": "ipython3",
   "version": "3.9.7"
  }
 },
 "nbformat": 4,
 "nbformat_minor": 5
}
